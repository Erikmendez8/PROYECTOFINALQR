{
 "cells": [
  {
   "cell_type": "code",
   "execution_count": 30,
   "metadata": {},
   "outputs": [
    {
     "name": "stdout",
     "output_type": "stream",
     "text": [
      "Requirement already satisfied: pyautogui in c:\\users\\suaba\\appdata\\roaming\\python\\python39\\site-packages (0.9.54)Note: you may need to restart the kernel to use updated packages.\n",
      "\n",
      "Requirement already satisfied: mouseinfo in c:\\users\\suaba\\appdata\\roaming\\python\\python39\\site-packages (from pyautogui) (0.1.3)\n",
      "Requirement already satisfied: pyscreeze>=0.1.21 in c:\\users\\suaba\\appdata\\roaming\\python\\python39\\site-packages (from pyautogui) (0.1.29)\n",
      "Requirement already satisfied: pytweening>=1.0.4 in c:\\users\\suaba\\appdata\\roaming\\python\\python39\\site-packages (from pyautogui) (1.0.7)\n",
      "Requirement already satisfied: pygetwindow>=0.0.5 in c:\\users\\suaba\\appdata\\roaming\\python\\python39\\site-packages (from pyautogui) (0.0.9)\n",
      "Requirement already satisfied: pymsgbox in c:\\users\\suaba\\appdata\\roaming\\python\\python39\\site-packages (from pyautogui) (1.0.9)\n",
      "Requirement already satisfied: pyrect in c:\\users\\suaba\\appdata\\roaming\\python\\python39\\site-packages (from pygetwindow>=0.0.5->pyautogui) (0.2.0)\n",
      "Requirement already satisfied: Pillow>=9.2.0 in c:\\users\\suaba\\appdata\\roaming\\python\\python39\\site-packages (from pyscreeze>=0.1.21->pyautogui) (10.1.0)\n",
      "Requirement already satisfied: pyscreenshot in c:\\users\\suaba\\appdata\\roaming\\python\\python39\\site-packages (from pyscreeze>=0.1.21->pyautogui) (3.1)\n",
      "Requirement already satisfied: pyperclip in c:\\users\\suaba\\appdata\\roaming\\python\\python39\\site-packages (from mouseinfo->pyautogui) (1.8.2)\n",
      "Requirement already satisfied: entrypoint2 in c:\\users\\suaba\\appdata\\roaming\\python\\python39\\site-packages (from pyscreenshot->pyscreeze>=0.1.21->pyautogui) (1.1)\n",
      "Requirement already satisfied: mss in c:\\users\\suaba\\appdata\\roaming\\python\\python39\\site-packages (from pyscreenshot->pyscreeze>=0.1.21->pyautogui) (9.0.1)\n",
      "Requirement already satisfied: EasyProcess in c:\\users\\suaba\\appdata\\roaming\\python\\python39\\site-packages (from pyscreenshot->pyscreeze>=0.1.21->pyautogui) (1.1)\n"
     ]
    }
   ],
   "source": [
    "pip install pyautogui"
   ]
  },
  {
   "cell_type": "code",
   "execution_count": 31,
   "metadata": {},
   "outputs": [
    {
     "name": "stdout",
     "output_type": "stream",
     "text": [
      "Requirement already satisfied: pandas in c:\\users\\suaba\\.conda\\envs\\imagen_nv\\lib\\site-packages (2.1.2)\n",
      "Requirement already satisfied: pytz>=2020.1 in c:\\users\\suaba\\.conda\\envs\\imagen_nv\\lib\\site-packages (from pandas) (2022.7)\n",
      "Requirement already satisfied: python-dateutil>=2.8.2 in c:\\users\\suaba\\.conda\\envs\\imagen_nv\\lib\\site-packages (from pandas) (2.8.2)\n",
      "Requirement already satisfied: tzdata>=2022.1 in c:\\users\\suaba\\.conda\\envs\\imagen_nv\\lib\\site-packages (from pandas) (2023.3)\n",
      "Requirement already satisfied: numpy<2,>=1.22.4 in c:\\users\\suaba\\.conda\\envs\\imagen_nv\\lib\\site-packages (from pandas) (1.23.5)\n",
      "Requirement already satisfied: six>=1.5 in c:\\users\\suaba\\.conda\\envs\\imagen_nv\\lib\\site-packages (from python-dateutil>=2.8.2->pandas) (1.16.0)\n",
      "Note: you may need to restart the kernel to use updated packages.\n"
     ]
    }
   ],
   "source": [
    "pip install pandas"
   ]
  },
  {
   "cell_type": "code",
   "execution_count": 32,
   "metadata": {},
   "outputs": [
    {
     "name": "stdout",
     "output_type": "stream",
     "text": [
      "Requirement already satisfied: openpyxl in c:\\users\\suaba\\.conda\\envs\\imagen_nv\\lib\\site-packages (3.1.2)\n",
      "Requirement already satisfied: et-xmlfile in c:\\users\\suaba\\.conda\\envs\\imagen_nv\\lib\\site-packages (from openpyxl) (1.1.0)\n",
      "Note: you may need to restart the kernel to use updated packages.\n"
     ]
    }
   ],
   "source": [
    "pip install openpyxl"
   ]
  },
  {
   "cell_type": "code",
   "execution_count": 33,
   "metadata": {},
   "outputs": [
    {
     "name": "stdout",
     "output_type": "stream",
     "text": [
      "Requirement already satisfied: pyzbar in c:\\users\\suaba\\appdata\\roaming\\python\\python39\\site-packages (0.1.9)\n",
      "Note: you may need to restart the kernel to use updated packages.\n"
     ]
    }
   ],
   "source": [
    "pip install pyzbar"
   ]
  },
  {
   "cell_type": "code",
   "execution_count": 34,
   "metadata": {},
   "outputs": [],
   "source": [
    "\n",
    "#AQUI SE MANDAN A IMPORTAR LAS LIBRERIAS \n",
    "\n",
    "import cv2\n",
    "import openpyxl\n",
    "import qrcode\n",
    "import os\n",
    "import tkinter as tk\n",
    "from tkinter import ttk\n",
    "from tkinter import Label\n",
    "import pandas as pd\n",
    "from pyzbar.pyzbar import decode  # Para decodificar los códigos QR\n",
    "import sqlite3"
   ]
  },
  {
   "cell_type": "code",
   "execution_count": 35,
   "metadata": {},
   "outputs": [
    {
     "name": "stdout",
     "output_type": "stream",
     "text": [
      "OpenCV Version: 4.7.0 3.1.2\n"
     ]
    }
   ],
   "source": [
    "print(\"OpenCV Version:\", cv2.__version__, openpyxl.__version__)"
   ]
  },
  {
   "cell_type": "code",
   "execution_count": 36,
   "metadata": {},
   "outputs": [
    {
     "name": "stdout",
     "output_type": "stream",
     "text": [
      "Se está trabajando con el archivo 'C:\\Users\\suaba\\Desktop\\PROYECTOFINALQR/proyectofinalqr.xlsx' en la hoja 'registros' del documento./ '<Worksheet \"registros\"> '\n"
     ]
    }
   ],
   "source": [
    "# RUTA DEL DIRECTORIA DE NUESTRA BASE DE DATOS EN EXCEL \n",
    "bd_excel = r\"C:\\Users\\suaba\\Desktop\\PROYECTOFINALQR/proyectofinalqr.xlsx\"\n",
    "\n",
    "# NOMBRE DE HOJA DE NUESTRO EXCEL\n",
    "nombre_hoja = \"registros\"\n",
    "\n",
    "# CARPETA DONDE SE GUARDARAN LOS CODIGOS QR\n",
    "directorio_destino = r\"C:\\Users\\suaba\\Desktop\\PROYECTOFINALQR\\codigosqr\"\n",
    "\n",
    "# ABRIR EXCEL \n",
    "workbook = openpyxl.load_workbook(bd_excel)\n",
    "\n",
    "# SELECCION DE HOJA\n",
    "hoja = workbook[nombre_hoja]\n",
    "oracion = f\"Se está trabajando con el archivo '{bd_excel}' en la hoja '{nombre_hoja}' del documento./ '{hoja} '\"\n",
    "print(oracion)"
   ]
  },
  {
   "cell_type": "code",
   "execution_count": 37,
   "metadata": {},
   "outputs": [
    {
     "name": "stdout",
     "output_type": "stream",
     "text": [
      "   id_clave  Nombre Apellido    Padre      Numero Codigo QR\n",
      "0   1926598   ERIK    MENDEZ  ANTONIO  5618503856     RUTA1\n",
      "1   1973155     ALE   SUAREZ     JOSE  5613138133     RUTA2\n",
      "2   2126812     FER   SUAREZ      ALE  5626680186     RUTA3\n",
      "3   1926486  JIMENA  BASILIO     OMAR  5583233548     RUTA4\n",
      "El valor numero de id_clave de \"1926598\" es: 1926598\n"
     ]
    }
   ],
   "source": [
    "\n",
    "# SOLO SE CORRE PARA GENERAR EL QR DE EL REGISTRO QUE SE NECESITA\n",
    "\n",
    "valor_buscado = int(input(\"ingrese el dato de busqueda\"))\n",
    "\n",
    "#CARGAR EXCEL\n",
    "excel_file = 'proyectofinalqr.xlsx'\n",
    "df = pd.read_excel(excel_file, engine='openpyxl')\n",
    "\n",
    "#CONEXION BD\n",
    "\n",
    "conn = sqlite3.connect('RegistroBD.db')\n",
    "\n",
    "# Agrega los datos del DataFrame a la tabla de la base de datos\n",
    "df.to_sql('Usuarios', conn, if_exists='replace', index=False)\n",
    "\n",
    "\n",
    "print(df)\n",
    "resultado = df.loc[df['id_clave'] == valor_buscado, 'id_clave']\n",
    "\n",
    "# Verifica si se encontró el valor y muestra el resultado\n",
    "\n",
    "valor_en_columna_F = resultado.values[0]\n",
    "print(f'El valor numero de id_clave de \"{valor_buscado}\" es: {valor_en_columna_F}')"
   ]
  },
  {
   "cell_type": "code",
   "execution_count": 38,
   "metadata": {},
   "outputs": [
    {
     "name": "stdout",
     "output_type": "stream",
     "text": [
      "   id_clave  Nombre Apellido    Padre      Numero Codigo QR\n",
      "0   1926598   ERIK    MENDEZ  ANTONIO  5618503856     RUTA1\n",
      "1   1973155     ALE   SUAREZ     JOSE  5613138133     RUTA2\n",
      "2   2126812     FER   SUAREZ      ALE  5626680186     RUTA3\n",
      "3   1926486  JIMENA  BASILIO     OMAR  5583233548     RUTA4\n",
      "Fila seleccionada: \n",
      "   id_clave Nombre Apellido    Padre      Numero Codigo QR\n",
      "0   1926598  ERIK    MENDEZ  ANTONIO  5618503856     RUTA1\n",
      "Valor de la columna 0: 1926598\n"
     ]
    }
   ],
   "source": [
    "\n",
    "# BUSCA EN LA COLUMNA DE ID_CLAVE Y ME DA EL NUMERO DE TELEFONO(el Folio)\n",
    "# USANDO DF\n",
    "\n",
    "#CARGAR BD EXCEL\n",
    "excel_file = 'proyectofinalqr.xlsx'\n",
    "df = pd.read_excel(excel_file, engine='openpyxl')\n",
    "\n",
    "# CONEXION BD\n",
    "conn = sqlite3.connect('RegistroBD.db')\n",
    "\n",
    "df.to_sql('Usuarios', conn, if_exists='replace', index=False)\n",
    "\n",
    "# Muestra el DataFrame con todos los datos\n",
    "print(df)\n",
    "\n",
    "# Busca la fila en la que el valor de 'Column2' sea igual a 'B'\n",
    "fila_seleccionada = df.loc[df['id_clave'] == valor_buscado]\n",
    "\n",
    "if not fila_seleccionada.empty:\n",
    "    columna_folio = fila_seleccionada['id_clave'].values[0]\n",
    "    print(f\"Fila seleccionada: \\n{fila_seleccionada}\")\n",
    "    print(f\"Valor de la columna 0: {columna_folio}\")\n",
    "else:\n",
    "    print(\"No se encontraron filas con el valor 'B' en 'Column2'\")\n",
    "\n",
    "#CIERRE CONEXION BD\n",
    "conn.close()"
   ]
  },
  {
   "cell_type": "code",
   "execution_count": 39,
   "metadata": {},
   "outputs": [],
   "source": [
    "columna_folio=str(columna_folio)"
   ]
  },
  {
   "cell_type": "code",
   "execution_count": 40,
   "metadata": {},
   "outputs": [],
   "source": [
    "#CREACION DE CODIGO QR\n",
    "qr = qrcode.QRCode(\n",
    "    version=1,\n",
    "    error_correction=qrcode.constants.ERROR_CORRECT_L,\n",
    "    box_size=10,\n",
    "    border=4,\n",
    ")\n",
    "\n",
    "# DATOS FOLIO\n",
    "qr.add_data(columna_folio)\n",
    "qr.make(fit=True)\n",
    "\n",
    "#IMAGEN QR\n",
    "img = qr.make_image(fill_color=\"black\", back_color=\"white\")\n",
    "\n",
    "import os\n",
    "\n",
    "# DIRECTORIO IMGENES QR\n",
    "directorio_destino = r\"C:\\Users\\suaba\\Desktop\\PROYECTOFINALQR\\codigosqr\"\n",
    "\n",
    "#GUARDAR IMAGEN QR EN CARPETA ESPECIFICA\n",
    "nombre_archivo_qr = f\"codigo_qr_{columna_folio}.png\"\n",
    "\n",
    "# Eliminar espacios en blanco al final del nombre del archivo\n",
    "nombre_archivo_qr = nombre_archivo_qr.strip()\n",
    "\n",
    "ruta_completa = os.path.join(directorio_destino, nombre_archivo_qr)\n",
    "\n",
    "img.save(ruta_completa)\n",
    "img.show()"
   ]
  },
  {
   "cell_type": "code",
   "execution_count": 41,
   "metadata": {},
   "outputs": [
    {
     "name": "stdout",
     "output_type": "stream",
     "text": [
      "1973155\n",
      "Fila seleccionada: \n",
      "   id_clave Nombre Apellido Padre      Numero Codigo QR\n",
      "1   1973155    ALE   SUAREZ  JOSE  5613138133     RUTA2\n",
      "Valor de la columna 5: 5613138133\n",
      "Fecha actual: 2023-11-09\n",
      "Hora actual: 16:36\n",
      "Minutos actuales: 36\n",
      "In 19 Seconds WhatsApp will open and after 15 Seconds Message will be Delivered!\n"
     ]
    }
   ],
   "source": [
    "\n",
    "#LECTURA DE CAMARA PARA LEER EL CODIGO QR\n",
    "import cv2 \n",
    "import numpy as np \n",
    "from pyzbar.pyzbar import decode\n",
    "\n",
    "cap= cv2.VideoCapture(0)\n",
    "\n",
    "while True:\n",
    "    success, img = cap.read()\n",
    "    \n",
    "    if not success:\n",
    "        break\n",
    "    \n",
    "    for code in decode(img):\n",
    "        \n",
    "        decoded_data = code.data.decode(\"utf-8\")\n",
    "        \n",
    "        print(decoded_data)\n",
    "        \n",
    "        rect_pts = code.rect\n",
    "        \n",
    "        if decoded_data:\n",
    "            pts = np.array([code.polygon], np.int32)\n",
    "            cv2.polylines(img, [pts], True,(255,0,0),3)\n",
    "            cv2.putText(img, str(decoded_data),(rect_pts[0], rect_pts[1]),cv2.FONT_HERSHEY_COMPLEX_SMALL,1 ,(0,255, 0),)\n",
    "\n",
    "        # CIERRE DE CAMARA\n",
    "        cap.release()\n",
    "\n",
    "        #VENTANA PARA EL CODIGO QR\n",
    "        cv2.imshow(\"QR Code Content\", img)\n",
    "        cv2.waitKey(0)  #PRESIONA CUALQUIER TECLA\n",
    "decoded_data = int(decoded_data)\n",
    "#CIERRA LAS VENTANAS\n",
    "cv2.destroyAllWindows()\n",
    "# PROCEDE A LEER EL DATO Y LO QUE VA A BUSCAR ES UN NUMERO DE TELEFONO\n",
    "# BUSCA EN LA COLUMNA DE ID_CLAVE Y ME DA EL NUMERO DE TELEFONO\n",
    "# USANDO DF\n",
    "import pandas as pd\n",
    "import sqlite3\n",
    "#CARGAR NUESTRA BD DE EXCEL\n",
    "excel_file = 'proyectofinalqr.xlsx'\n",
    "df = pd.read_excel(excel_file, engine='openpyxl')\n",
    "\n",
    "#CONEXION BD\n",
    "conn = sqlite3.connect('RegistroBD.db')\n",
    "\n",
    "# Agrega los datos del DataFrame a la tabla de la base de datos\n",
    "df.to_sql('Usuarios', conn, if_exists='replace', index=False)\n",
    "\n",
    "fila_seleccionada = df.loc[df['id_clave'] == decoded_data]\n",
    "\n",
    "if not fila_seleccionada.empty:\n",
    "    valor_columna5 = fila_seleccionada['Numero'].values[0]\n",
    "    print(f\"Fila seleccionada: \\n{fila_seleccionada}\")\n",
    "    print(f\"Valor de la columna 5: {valor_columna5}\")\n",
    "else:\n",
    "    print(\"No se encontraron filas con el valor 'B' en 'Column2'\")\n",
    "\n",
    "#CONEXION BD CERRADA\n",
    "conn.close()\n",
    "\n",
    "valor_columna5 = str(valor_columna5)\n",
    "\n",
    "\n",
    "#LIBRERIAS\n",
    "import pywhatkit as kit\n",
    "from datetime import datetime\n",
    "import time\n",
    "import pyautogui as pg\n",
    "\n",
    "#FECHA\n",
    "fecha_hora_actual = datetime.now()\n",
    "\n",
    "#SE EXTRAE LA FECHA,HORA Y MINUTOS\n",
    "fecha_actual = fecha_hora_actual.strftime(\"%Y-%m-%d\")\n",
    "hora_actual = fecha_hora_actual.strftime(\"%H:%M\")\n",
    "minutos_actual = fecha_hora_actual.strftime(\"%M\")\n",
    "\n",
    "# IMPRIME LA FECHA, HORA Y MINUTOS\n",
    "print(\"Fecha actual:\", fecha_actual)\n",
    "print(\"Hora actual:\", hora_actual)\n",
    "print(\"Minutos actuales:\", minutos_actual)\n",
    "\n",
    "\n",
    "\n",
    "phone_number = str(\"+52\" + valor_columna5)\n",
    "phone_number\n",
    "\n",
    "message = \"USUARIO REGISTRADO EN TECNOLOGIAS COMPUTACIONALES II PARA PROYECTO FINAL  \" + hora_actual + \" hoy : \" + fecha_actual\n",
    "second = time.time()+60\n",
    "date = datetime.fromtimestamp(second)\n",
    "\n",
    "#for i in range(35):\n",
    "kit.sendwhatmsg(phone_number,message, date.hour, date.minute)\n",
    "pg.hotkey('enter')\n",
    "\n",
    "time.sleep(30)\n",
    "pg.hotkey('ctrl','w')\n",
    "#PROYECTO FINALIZADO"
   ]
  }
 ],
 "metadata": {
  "kernelspec": {
   "display_name": "imagen_nv",
   "language": "python",
   "name": "python3"
  },
  "language_info": {
   "codemirror_mode": {
    "name": "ipython",
    "version": 3
   },
   "file_extension": ".py",
   "mimetype": "text/x-python",
   "name": "python",
   "nbconvert_exporter": "python",
   "pygments_lexer": "ipython3",
   "version": "3.9.16"
  }
 },
 "nbformat": 4,
 "nbformat_minor": 2
}
